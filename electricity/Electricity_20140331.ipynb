{
  "nbformat": 4,
  "nbformat_minor": 0,
  "metadata": {
    "colab": {
      "name": "Electricity_20140331.ipynb",
      "provenance": [],
      "mount_file_id": "1spx-H-7VV3LvlmeIZ4VIIf8CBJiIG8k-",
      "authorship_tag": "ABX9TyOpIWXrBy7vvkzP8ygCx1hQ",
      "include_colab_link": true
    },
    "kernelspec": {
      "name": "python3",
      "display_name": "Python 3"
    },
    "accelerator": "GPU"
  },
  "cells": [
    {
      "cell_type": "markdown",
      "metadata": {
        "id": "view-in-github",
        "colab_type": "text"
      },
      "source": [
        "<a href=\"https://colab.research.google.com/github/dmitri-carpov/akka-tcp-benchmark/blob/master/electricity/Electricity_20140331.ipynb\" target=\"_parent\"><img src=\"https://colab.research.google.com/assets/colab-badge.svg\" alt=\"Open In Colab\"/></a>"
      ]
    },
    {
      "cell_type": "code",
      "metadata": {
        "id": "qOUAQXflGUgr",
        "colab_type": "code",
        "colab": {}
      },
      "source": [
        "!pip install mxnet-cu101 fire gluonts patool\n",
        "!git clone https://github.com/dmitri-carpov/deepmodels.git /content/sources"
      ],
      "execution_count": 0,
      "outputs": []
    },
    {
      "cell_type": "code",
      "metadata": {
        "id": "rhk2qpxRGtpd",
        "colab_type": "code",
        "colab": {}
      },
      "source": [
        "import sys\n",
        "sys.path.append('/content/sources')\n",
        "\n",
        "import pandas as pd\n",
        "from electricity.experiment import run_experiment\n",
        "\n",
        "run_experiment(training_start=pd.to_datetime('2014-01-01 00'), \n",
        "               training_end=pd.to_datetime('2014-03-31 00'),\n",
        "               model_name='deepar', \n",
        "               epochs=50, \n",
        "               patience=50, \n",
        "               experiments=30,\n",
        "               scale=True,\n",
        "               scores_path='/content/drive/My Drive/research/deepmodels/electricity_20140331.npy')"
      ],
      "execution_count": 0,
      "outputs": []
    },
    {
      "cell_type": "code",
      "metadata": {
        "id": "i_3_8v8rHPJL",
        "colab_type": "code",
        "colab": {}
      },
      "source": [
        ""
      ],
      "execution_count": 0,
      "outputs": []
    }
  ]
}